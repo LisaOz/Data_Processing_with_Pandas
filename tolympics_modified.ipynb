{
 "cells": [
  {
   "cell_type": "code",
   "execution_count": 29,
   "id": "acccf840-8250-4e1c-9109-8c0df90eea41",
   "metadata": {},
   "outputs": [
    {
     "name": "stdout",
     "output_type": "stream",
     "text": [
      "First 10 rows:\n",
      "                           0         1     2     3     4      5         6  \\\n",
      "0                        NaN  ? Summer  01 !  02 !  03 !  Total  ? Winter   \n",
      "1          Afghanistan (AFG)        13     0     0     2      2         0   \n",
      "2              Algeria (ALG)        12     5     2     8     15         3   \n",
      "3            Argentina (ARG)        23    18    24    28     70        18   \n",
      "4              Armenia (ARM)         5     1     2     9     12         6   \n",
      "5    Australasia (ANZ) [ANZ]         2     3     4     5     12         0   \n",
      "6  Australia (AUS) [AUS] [Z]        25   139   152   177    468        18   \n",
      "7              Austria (AUT)        26    18    33    35     86        22   \n",
      "8           Azerbaijan (AZE)         5     6     5    15     26         5   \n",
      "9              Bahamas (BAH)        15     5     2     5     12         0   \n",
      "\n",
      "      7     8     9     10       11    12    13    14              15  \n",
      "0  01 !  02 !  03 !  Total  ? Games  01 !  02 !  03 !  Combined total  \n",
      "1     0     0     0      0       13     0     0     2               2  \n",
      "2     0     0     0      0       15     5     2     8              15  \n",
      "3     0     0     0      0       41    18    24    28              70  \n",
      "4     0     0     0      0       11     1     2     9              12  \n",
      "5     0     0     0      0        2     3     4     5              12  \n",
      "6     5     3     4     12       43   144   155   181             480  \n",
      "7    59    78    81    218       48    77   111   116             304  \n",
      "8     0     0     0      0       10     6     5    15              26  \n",
      "9     0     0     0      0       15     5     2     5              12  \n",
      "Last 5 rows:\n",
      "                                                0   1     2     3     4  \\\n",
      "138                              Uzbekistan (UZB)   5     5     5    10   \n",
      "139                               Venezuela (VEN)  17     2     2     8   \n",
      "140                                 Vietnam (VIE)  14     0     2     0   \n",
      "141                          Virgin Islands (ISV)  11     0     1     0   \n",
      "142                        Yugoslavia (YUG) [YUG]  16    26    29    28   \n",
      "143  Independent Olympic Participants (IOP) [IOP]   1     0     1     2   \n",
      "144                            Zambia (ZAM) [ZAM]  12     0     1     1   \n",
      "145                          Zimbabwe (ZIM) [ZIM]  12     3     4     1   \n",
      "146                        Mixed team (ZZX) [ZZX]   3     8     5     4   \n",
      "147                                        Totals  27  4809  4775  5130   \n",
      "\n",
      "         5   6    7    8    9    10  11    12    13    14     15  \n",
      "138     20   6    1    0    0     1  11     6     5    10     21  \n",
      "139     12   4    0    0    0     0  21     2     2     8     12  \n",
      "140      2   0    0    0    0     0  14     0     2     0      2  \n",
      "141      1   7    0    0    0     0  18     0     1     0      1  \n",
      "142     83  14    0    3    1     4  30    26    32    29     87  \n",
      "143      3   0    0    0    0     0   1     0     1     2      3  \n",
      "144      2   0    0    0    0     0  12     0     1     1      2  \n",
      "145      8   1    0    0    0     0  13     3     4     1      8  \n",
      "146     17   0    0    0    0     0   3     8     5     4     17  \n",
      "147  14714  22  959  958  948  2865  49  5768  5733  6078  17579  \n"
     ]
    }
   ],
   "source": [
    "import pandas as pd\n",
    "df = pd.read_csv('tolympics.csv')\n",
    "print(\"First 10 rows:\")\n",
    "print(df.head(10))\n",
    "print(\"Last 5 rows:\")\n",
    "print(df.tail(10))\n"
   ]
  },
  {
   "cell_type": "code",
   "execution_count": 31,
   "id": "800ae252-5f80-4a4c-b8a3-98569607b4aa",
   "metadata": {},
   "outputs": [
    {
     "name": "stdout",
     "output_type": "stream",
     "text": [
      "\n",
      "Summary Information:\n",
      "<bound method DataFrame.info of                                                 0         1     2     3     4  \\\n",
      "0                                             NaN  ? Summer  01 !  02 !  03 !   \n",
      "1                               Afghanistan (AFG)        13     0     0     2   \n",
      "2                                   Algeria (ALG)        12     5     2     8   \n",
      "3                                 Argentina (ARG)        23    18    24    28   \n",
      "4                                   Armenia (ARM)         5     1     2     9   \n",
      "..                                            ...       ...   ...   ...   ...   \n",
      "143  Independent Olympic Participants (IOP) [IOP]         1     0     1     2   \n",
      "144                            Zambia (ZAM) [ZAM]        12     0     1     1   \n",
      "145                          Zimbabwe (ZIM) [ZIM]        12     3     4     1   \n",
      "146                        Mixed team (ZZX) [ZZX]         3     8     5     4   \n",
      "147                                        Totals        27  4809  4775  5130   \n",
      "\n",
      "         5         6     7     8     9     10       11    12    13    14  \\\n",
      "0    Total  ? Winter  01 !  02 !  03 !  Total  ? Games  01 !  02 !  03 !   \n",
      "1        2         0     0     0     0      0       13     0     0     2   \n",
      "2       15         3     0     0     0      0       15     5     2     8   \n",
      "3       70        18     0     0     0      0       41    18    24    28   \n",
      "4       12         6     0     0     0      0       11     1     2     9   \n",
      "..     ...       ...   ...   ...   ...    ...      ...   ...   ...   ...   \n",
      "143      3         0     0     0     0      0        1     0     1     2   \n",
      "144      2         0     0     0     0      0       12     0     1     1   \n",
      "145      8         1     0     0     0      0       13     3     4     1   \n",
      "146     17         0     0     0     0      0        3     8     5     4   \n",
      "147  14714        22   959   958   948   2865       49  5768  5733  6078   \n",
      "\n",
      "                 15  \n",
      "0    Combined total  \n",
      "1                 2  \n",
      "2                15  \n",
      "3                70  \n",
      "4                12  \n",
      "..              ...  \n",
      "143               3  \n",
      "144               2  \n",
      "145               8  \n",
      "146              17  \n",
      "147           17579  \n",
      "\n",
      "[148 rows x 16 columns]>\n"
     ]
    }
   ],
   "source": [
    "# Display summary information\n",
    "print(\"\\nSummary Information:\")\n",
    "print(df.info)"
   ]
  },
  {
   "cell_type": "code",
   "execution_count": 33,
   "id": "1644eec6-4bba-4f63-870b-61cb47f7029b",
   "metadata": {},
   "outputs": [
    {
     "name": "stdout",
     "output_type": "stream",
     "text": [
      "\n",
      "Column names:\n",
      "Index(['0', '1', '2', '3', '4', '5', '6', '7', '8', '9', '10', '11', '12',\n",
      "       '13', '14', '15'],\n",
      "      dtype='object')\n"
     ]
    }
   ],
   "source": [
    "# Display column names\n",
    "print(\"\\nColumn names:\")\n",
    "print(df.columns)\n"
   ]
  },
  {
   "cell_type": "code",
   "execution_count": 13,
   "id": "b3be091b-21c2-479f-8639-6744675a5a78",
   "metadata": {
    "scrolled": true
   },
   "outputs": [
    {
     "data": {
      "text/plain": [
       "<bound method NDFrame.describe of                                                 0         1     2     3     4  \\\n",
       "0                                             NaN  ? Summer  01 !  02 !  03 !   \n",
       "1                               Afghanistan (AFG)        13     0     0     2   \n",
       "2                                   Algeria (ALG)        12     5     2     8   \n",
       "3                                 Argentina (ARG)        23    18    24    28   \n",
       "4                                   Armenia (ARM)         5     1     2     9   \n",
       "..                                            ...       ...   ...   ...   ...   \n",
       "143  Independent Olympic Participants (IOP) [IOP]         1     0     1     2   \n",
       "144                            Zambia (ZAM) [ZAM]        12     0     1     1   \n",
       "145                          Zimbabwe (ZIM) [ZIM]        12     3     4     1   \n",
       "146                        Mixed team (ZZX) [ZZX]         3     8     5     4   \n",
       "147                                        Totals        27  4809  4775  5130   \n",
       "\n",
       "         5         6     7     8     9     10       11    12    13    14  \\\n",
       "0    Total  ? Winter  01 !  02 !  03 !  Total  ? Games  01 !  02 !  03 !   \n",
       "1        2         0     0     0     0      0       13     0     0     2   \n",
       "2       15         3     0     0     0      0       15     5     2     8   \n",
       "3       70        18     0     0     0      0       41    18    24    28   \n",
       "4       12         6     0     0     0      0       11     1     2     9   \n",
       "..     ...       ...   ...   ...   ...    ...      ...   ...   ...   ...   \n",
       "143      3         0     0     0     0      0        1     0     1     2   \n",
       "144      2         0     0     0     0      0       12     0     1     1   \n",
       "145      8         1     0     0     0      0       13     3     4     1   \n",
       "146     17         0     0     0     0      0        3     8     5     4   \n",
       "147  14714        22   959   958   948   2865       49  5768  5733  6078   \n",
       "\n",
       "                 15  \n",
       "0    Combined total  \n",
       "1                 2  \n",
       "2                15  \n",
       "3                70  \n",
       "4                12  \n",
       "..              ...  \n",
       "143               3  \n",
       "144               2  \n",
       "145               8  \n",
       "146              17  \n",
       "147           17579  \n",
       "\n",
       "[148 rows x 16 columns]>"
      ]
     },
     "execution_count": 13,
     "metadata": {},
     "output_type": "execute_result"
    }
   ],
   "source": [
    "df.describe\n"
   ]
  },
  {
   "cell_type": "code",
   "execution_count": 19,
   "id": "c9c323cb-932a-43b5-8703-255f9eeeb5e3",
   "metadata": {},
   "outputs": [
    {
     "name": "stdout",
     "output_type": "stream",
     "text": [
      "0     1\n",
      "1     0\n",
      "2     0\n",
      "3     0\n",
      "4     0\n",
      "5     0\n",
      "6     0\n",
      "7     0\n",
      "8     0\n",
      "9     0\n",
      "10    0\n",
      "11    0\n",
      "12    0\n",
      "13    0\n",
      "14    0\n",
      "15    0\n",
      "dtype: int64\n"
     ]
    }
   ],
   "source": [
    "print(df.isnull().sum())"
   ]
  },
  {
   "cell_type": "code",
   "execution_count": 43,
   "id": "fccab4e8-02e7-4505-b757-6e73e35cd1ab",
   "metadata": {},
   "outputs": [
    {
     "data": {
      "text/plain": [
       "(148, 16)"
      ]
     },
     "execution_count": 43,
     "metadata": {},
     "output_type": "execute_result"
    }
   ],
   "source": [
    "df.shape"
   ]
  },
  {
   "cell_type": "code",
   "execution_count": 55,
   "id": "b796d1eb-65e9-4fae-81cb-cbaa284329b2",
   "metadata": {},
   "outputs": [
    {
     "name": "stdout",
     "output_type": "stream",
     "text": [
      "<bound method DataFrame.info of                                      Country_Team Summer_01 Summer_02  \\\n",
      "0                                             NaN  ? Summer      01 !   \n",
      "1                               Afghanistan (AFG)        13         0   \n",
      "2                                   Algeria (ALG)        12         5   \n",
      "3                                 Argentina (ARG)        23        18   \n",
      "4                                   Armenia (ARM)         5         1   \n",
      "..                                            ...       ...       ...   \n",
      "143  Independent Olympic Participants (IOP) [IOP]         1         0   \n",
      "144                            Zambia (ZAM) [ZAM]        12         0   \n",
      "145                          Zimbabwe (ZIM) [ZIM]        12         3   \n",
      "146                        Mixed team (ZZX) [ZZX]         3         8   \n",
      "147                                        Totals        27      4809   \n",
      "\n",
      "    Summer_03 Summer_Total Winter_01 Winter_02 Winter_03 Winter_Total  \\\n",
      "0        02 !         03 !     Total  ? Winter      01 !         02 !   \n",
      "1           0            2         2         0         0            0   \n",
      "2           2            8        15         3         0            0   \n",
      "3          24           28        70        18         0            0   \n",
      "4           2            9        12         6         0            0   \n",
      "..        ...          ...       ...       ...       ...          ...   \n",
      "143         1            2         3         0         0            0   \n",
      "144         1            1         2         0         0            0   \n",
      "145         4            1         8         1         0            0   \n",
      "146         5            4        17         0         0            0   \n",
      "147      4775         5130     14714        22       959          958   \n",
      "\n",
      "    Games_Total Other_01 Other_02 Other_03 Combined_Total Medals_01  \\\n",
      "0          03 !    Total  ? Games     01 !           02 !      03 !   \n",
      "1             0        0       13        0              0         2   \n",
      "2             0        0       15        5              2         8   \n",
      "3             0        0       41       18             24        28   \n",
      "4             0        0       11        1              2         9   \n",
      "..          ...      ...      ...      ...            ...       ...   \n",
      "143           0        0        1        0              1         2   \n",
      "144           0        0       12        0              1         1   \n",
      "145           0        0       13        3              4         1   \n",
      "146           0        0        3        8              5         4   \n",
      "147         948     2865       49     5768           5733      6078   \n",
      "\n",
      "          Medals_02  \n",
      "0    Combined total  \n",
      "1                 2  \n",
      "2                15  \n",
      "3                70  \n",
      "4                12  \n",
      "..              ...  \n",
      "143               3  \n",
      "144               2  \n",
      "145               8  \n",
      "146              17  \n",
      "147           17579  \n",
      "\n",
      "[148 rows x 16 columns]>\n"
     ]
    }
   ],
   "source": [
    "# Define new column names\n",
    "new_column_names = ['Country_Team', 'Summer_01', 'Summer_02', 'Summer_03', 'Summer_Total', \n",
    "                    'Winter_01', 'Winter_02', 'Winter_03', 'Winter_Total', 'Games_Total', \n",
    "                    'Other_01', 'Other_02', 'Other_03', 'Combined_Total', 'Medals_01',\n",
    "                    'Medals_02'\n",
    "                   ]\n",
    "# Assign new column names to the DataGrame\n",
    "df.columns = new_column_names\n",
    "print(df.info)\n"
   ]
  },
  {
   "cell_type": "code",
   "execution_count": null,
   "id": "9d265d9d-4437-42f6-b095-577ab24f0ce1",
   "metadata": {},
   "outputs": [],
   "source": []
  }
 ],
 "metadata": {
  "kernelspec": {
   "display_name": "Python 3 (ipykernel)",
   "language": "python",
   "name": "python3"
  },
  "language_info": {
   "codemirror_mode": {
    "name": "ipython",
    "version": 3
   },
   "file_extension": ".py",
   "mimetype": "text/x-python",
   "name": "python",
   "nbconvert_exporter": "python",
   "pygments_lexer": "ipython3",
   "version": "3.12.4"
  }
 },
 "nbformat": 4,
 "nbformat_minor": 5
}

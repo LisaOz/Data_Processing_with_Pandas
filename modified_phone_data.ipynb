{
 "cells": [
  {
   "cell_type": "code",
   "execution_count": 1,
   "id": "5a98d561-495a-415a-9cb4-7da44ddc75a7",
   "metadata": {},
   "outputs": [
    {
     "name": "stdout",
     "output_type": "stream",
     "text": [
      "   index            date  duration  item    month    network network_type\n",
      "0      0  15/10/14 06:58    34.429  data  2014-11       data         data\n",
      "1      1  15/10/14 06:58    13.000  call  2014-11   Vodafone       mobile\n",
      "2      2  15/10/14 14:46    23.000  call  2014-11     Meteor       mobile\n",
      "3      3  15/10/14 14:48     4.000  call  2014-11      Tesco       mobile\n",
      "4      4  15/10/14 17:27     4.000  call  2014-11      Tesco       mobile\n",
      "5      5  15/10/14 18:55     4.000  call  2014-11      Tesco       mobile\n",
      "6      6  16/10/14 06:58    34.429  data  2014-11       data         data\n",
      "7      7  16/10/14 15:01   602.000  call  2014-11      Three       mobile\n",
      "8      8  16/10/14 15:12  1050.000  call  2014-11      Three       mobile\n",
      "9      9  16/10/14 15:30    19.000  call  2014-11  voicemail    voicemail\n",
      "     index            date  duration  item    month   network network_type\n",
      "820    820  08/03/15 06:58    34.429  data  2015-03      data         data\n",
      "821    821  09/03/15 06:58    34.429  data  2015-03      data         data\n",
      "822    822  10/03/15 06:58    34.429  data  2015-03      data         data\n",
      "823    823  11/03/15 06:58    34.429  data  2015-03      data         data\n",
      "824    824  12/03/15 06:58    34.429  data  2015-03      data         data\n",
      "825    825  13/03/15 00:38     1.000   sms  2015-03     world        world\n",
      "826    826  13/03/15 00:39     1.000   sms  2015-03  Vodafone       mobile\n",
      "827    827  13/03/15 06:58    34.429  data  2015-03      data         data\n",
      "828    828  14/03/15 00:13     1.000   sms  2015-03     world        world\n",
      "829    829  14/03/15 00:16     1.000   sms  2015-03     world        world\n"
     ]
    }
   ],
   "source": [
    "import pandas as pd\n",
    "df = pd.read_csv('phone_data.csv')\n",
    "print(df.head(10))\n",
    "print(df.tail(10))"
   ]
  },
  {
   "cell_type": "code",
   "execution_count": 3,
   "id": "ee1c7372-9d63-459b-8525-581bf6f7f486",
   "metadata": {},
   "outputs": [
    {
     "data": {
      "text/html": [
       "<div>\n",
       "<style scoped>\n",
       "    .dataframe tbody tr th:only-of-type {\n",
       "        vertical-align: middle;\n",
       "    }\n",
       "\n",
       "    .dataframe tbody tr th {\n",
       "        vertical-align: top;\n",
       "    }\n",
       "\n",
       "    .dataframe thead th {\n",
       "        text-align: right;\n",
       "    }\n",
       "</style>\n",
       "<table border=\"1\" class=\"dataframe\">\n",
       "  <thead>\n",
       "    <tr style=\"text-align: right;\">\n",
       "      <th></th>\n",
       "      <th>index</th>\n",
       "      <th>date</th>\n",
       "      <th>duration</th>\n",
       "      <th>item</th>\n",
       "      <th>network</th>\n",
       "    </tr>\n",
       "  </thead>\n",
       "  <tbody>\n",
       "    <tr>\n",
       "      <th>0</th>\n",
       "      <td>0</td>\n",
       "      <td>15/10/14 06:58</td>\n",
       "      <td>34.429</td>\n",
       "      <td>data</td>\n",
       "      <td>data</td>\n",
       "    </tr>\n",
       "    <tr>\n",
       "      <th>1</th>\n",
       "      <td>1</td>\n",
       "      <td>15/10/14 06:58</td>\n",
       "      <td>13.000</td>\n",
       "      <td>call</td>\n",
       "      <td>Vodafone</td>\n",
       "    </tr>\n",
       "    <tr>\n",
       "      <th>2</th>\n",
       "      <td>2</td>\n",
       "      <td>15/10/14 14:46</td>\n",
       "      <td>23.000</td>\n",
       "      <td>call</td>\n",
       "      <td>Meteor</td>\n",
       "    </tr>\n",
       "    <tr>\n",
       "      <th>3</th>\n",
       "      <td>3</td>\n",
       "      <td>15/10/14 14:48</td>\n",
       "      <td>4.000</td>\n",
       "      <td>call</td>\n",
       "      <td>Tesco</td>\n",
       "    </tr>\n",
       "    <tr>\n",
       "      <th>4</th>\n",
       "      <td>4</td>\n",
       "      <td>15/10/14 17:27</td>\n",
       "      <td>4.000</td>\n",
       "      <td>call</td>\n",
       "      <td>Tesco</td>\n",
       "    </tr>\n",
       "    <tr>\n",
       "      <th>...</th>\n",
       "      <td>...</td>\n",
       "      <td>...</td>\n",
       "      <td>...</td>\n",
       "      <td>...</td>\n",
       "      <td>...</td>\n",
       "    </tr>\n",
       "    <tr>\n",
       "      <th>825</th>\n",
       "      <td>825</td>\n",
       "      <td>13/03/15 00:38</td>\n",
       "      <td>1.000</td>\n",
       "      <td>sms</td>\n",
       "      <td>world</td>\n",
       "    </tr>\n",
       "    <tr>\n",
       "      <th>826</th>\n",
       "      <td>826</td>\n",
       "      <td>13/03/15 00:39</td>\n",
       "      <td>1.000</td>\n",
       "      <td>sms</td>\n",
       "      <td>Vodafone</td>\n",
       "    </tr>\n",
       "    <tr>\n",
       "      <th>827</th>\n",
       "      <td>827</td>\n",
       "      <td>13/03/15 06:58</td>\n",
       "      <td>34.429</td>\n",
       "      <td>data</td>\n",
       "      <td>data</td>\n",
       "    </tr>\n",
       "    <tr>\n",
       "      <th>828</th>\n",
       "      <td>828</td>\n",
       "      <td>14/03/15 00:13</td>\n",
       "      <td>1.000</td>\n",
       "      <td>sms</td>\n",
       "      <td>world</td>\n",
       "    </tr>\n",
       "    <tr>\n",
       "      <th>829</th>\n",
       "      <td>829</td>\n",
       "      <td>14/03/15 00:16</td>\n",
       "      <td>1.000</td>\n",
       "      <td>sms</td>\n",
       "      <td>world</td>\n",
       "    </tr>\n",
       "  </tbody>\n",
       "</table>\n",
       "<p>830 rows × 5 columns</p>\n",
       "</div>"
      ],
      "text/plain": [
       "     index            date  duration  item   network\n",
       "0        0  15/10/14 06:58    34.429  data      data\n",
       "1        1  15/10/14 06:58    13.000  call  Vodafone\n",
       "2        2  15/10/14 14:46    23.000  call    Meteor\n",
       "3        3  15/10/14 14:48     4.000  call     Tesco\n",
       "4        4  15/10/14 17:27     4.000  call     Tesco\n",
       "..     ...             ...       ...   ...       ...\n",
       "825    825  13/03/15 00:38     1.000   sms     world\n",
       "826    826  13/03/15 00:39     1.000   sms  Vodafone\n",
       "827    827  13/03/15 06:58    34.429  data      data\n",
       "828    828  14/03/15 00:13     1.000   sms     world\n",
       "829    829  14/03/15 00:16     1.000   sms     world\n",
       "\n",
       "[830 rows x 5 columns]"
      ]
     },
     "execution_count": 3,
     "metadata": {},
     "output_type": "execute_result"
    }
   ],
   "source": [
    "df[['index', 'date', 'duration', 'item', 'network']] "
   ]
  },
  {
   "cell_type": "code",
   "execution_count": 13,
   "id": "93b29e33-3c64-4b73-bcce-115767e2d60c",
   "metadata": {},
   "outputs": [
    {
     "name": "stdout",
     "output_type": "stream",
     "text": [
      "Number of calls: 388\n",
      "Number of messages: 292\n",
      "Number of data: 150\n"
     ]
    }
   ],
   "source": [
    "# Count the number of \"calls\", \"messages\" and \"data\" in the item column\n",
    "\n",
    "# Get the count of each unique value in the 'item' column\n",
    "item_counts = df['item'].value_counts()\n",
    "\n",
    "# Get the count of 'call'\n",
    "calls_count = item_counts.get('call', 0)  #  0 if 'call' is not present\n",
    "\n",
    "# Get the count of 'sms'\n",
    "messages_count = item_counts.get('sms', 0)  #  0 if 'sms' is not present\n",
    "\n",
    "# Get the count of 'data'\n",
    "data_count = item_counts.get('data', 0)  # Default to 0 if 'data' is not present\n",
    "\n",
    "# Display the counts\n",
    "print(f\"Number of calls: {calls_count}\")\n",
    "print(f\"Number of messages: {messages_count}\")\n",
    "print(f\"Number of data: {data_count}\")"
   ]
  },
  {
   "cell_type": "code",
   "execution_count": 15,
   "id": "15f55ac5-db25-4bbf-bd64-5c83aa38b7c1",
   "metadata": {},
   "outputs": [
    {
     "name": "stdout",
     "output_type": "stream",
     "text": [
      "Average call duration: 237.94072164948454\n"
     ]
    }
   ],
   "source": [
    "# Filter the DataFrame to include only rows where 'item' is 'call'\n",
    "calls_df = df[df['item'] == 'call']\n",
    "\n",
    "# Calculate the average duration of calls\n",
    "average_call_duration = calls_df['duration'].mean()\n",
    "\n",
    "# Display the result\n",
    "print(f\"Average call duration: {average_call_duration}\")"
   ]
  },
  {
   "cell_type": "code",
   "execution_count": 17,
   "id": "963b93fb-0c98-41ad-9226-b0e63f2cd4a4",
   "metadata": {},
   "outputs": [
    {
     "name": "stdout",
     "output_type": "stream",
     "text": [
      "Calls with duration over 90:\n",
      "     index            date  duration  item    month   network network_type\n",
      "7        7  16/10/14 15:01     602.0  call  2014-11     Three       mobile\n",
      "8        8  16/10/14 15:12    1050.0  call  2014-11     Three       mobile\n",
      "10      10  16/10/14 16:21    1183.0  call  2014-11     Three       mobile\n",
      "19      19  17/10/14 17:26      92.0  call  2014-11     Three       mobile\n",
      "21      21  17/10/14 17:30     375.0  call  2014-11     Tesco       mobile\n",
      "..     ...             ...       ...   ...      ...       ...          ...\n",
      "806    806  03/03/15 09:59     355.0  call  2015-03     Three       mobile\n",
      "807    807  03/03/15 10:12     745.0  call  2015-03  Vodafone       mobile\n",
      "809    809  03/03/15 14:34    1325.0  call  2015-03  Vodafone       mobile\n",
      "810    810  03/03/15 18:36     768.0  call  2015-03     Three       mobile\n",
      "816    816  04/03/15 12:29   10528.0  call  2015-03  landline     landline\n",
      "\n",
      "[173 rows x 7 columns]\n"
     ]
    }
   ],
   "source": [
    "# Filter the DataFrame to include only rows where 'item' is 'call' and 'duration' is greater than 90\n",
    "long_calls_df = df[(df['item'] == 'call') & (df['duration'] > 90)]\n",
    "\n",
    "# Display the result\n",
    "print(\"Calls with duration over 90:\")\n",
    "print(long_calls_df)"
   ]
  },
  {
   "cell_type": "code",
   "execution_count": 19,
   "id": "45f3bd20-9aee-4779-bb2d-909cdead4338",
   "metadata": {},
   "outputs": [
    {
     "name": "stdout",
     "output_type": "stream",
     "text": [
      "Modified DataFrame saved as 'modified_phone_data.csv'.\n"
     ]
    }
   ],
   "source": [
    "# Save the modified DataFrame to a CSV file\n",
    "df.to_csv('modified_phone_data.csv', index=False)\n",
    "\n",
    "print(\"Modified DataFrame saved as 'modified_phone_data.csv'.\")"
   ]
  },
  {
   "cell_type": "code",
   "execution_count": 4,
   "id": "e3e07f4b-235b-436f-b5f5-d8120e2e5fc7",
   "metadata": {},
   "outputs": [],
   "source": [
    "# Zip the CSV file\n",
    "import zipfile\n",
    "with zipfile.ZipFile('modified_phone_data.zip', 'w') as zipf:\n",
    "    zipf.write('modified_phone_data.csv')\n"
   ]
  },
  {
   "cell_type": "code",
   "execution_count": null,
   "id": "fe570c1d-9d4d-4ff4-b63f-b716809d1e7c",
   "metadata": {},
   "outputs": [],
   "source": []
  }
 ],
 "metadata": {
  "kernelspec": {
   "display_name": "Python 3 (ipykernel)",
   "language": "python",
   "name": "python3"
  },
  "language_info": {
   "codemirror_mode": {
    "name": "ipython",
    "version": 3
   },
   "file_extension": ".py",
   "mimetype": "text/x-python",
   "name": "python",
   "nbconvert_exporter": "python",
   "pygments_lexer": "ipython3",
   "version": "3.12.4"
  }
 },
 "nbformat": 4,
 "nbformat_minor": 5
}
